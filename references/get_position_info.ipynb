{
 "cells": [
  {
   "cell_type": "code",
   "execution_count": null,
   "metadata": {},
   "outputs": [],
   "source": [
    "import scanpy as sc\n",
    "import pandas as pd\n",
    "import numpy as np\n",
    "from anndata import AnnData\n",
    "import os\n",
    "import logging\n",
    "import json"
   ]
  },
  {
   "cell_type": "code",
   "execution_count": null,
   "metadata": {},
   "outputs": [],
   "source": [
    "# load chrom info\n",
    "gtf_file = '/home/share/huadjyin/home/linadi/wqr_files/Projs/20250123_Multiomics3/multiminer/references/Homo_sapiens.GRCh38.113.gff3'\n",
    "gtf = pd.read_csv(gtf_file, sep='\\t', comment='#', header=None)\n",
    "genes = gtf[gtf[2].isin(['gene', 'ncRNA_gene', 'pseudogene'])]\n",
    "\n",
    "# gene info\n",
    "gene_df = genes[[0, 3, 4, 6, 8]].copy()\n",
    "gene_df.columns = ['chrom', 'start', 'end', 'strand', 'info']\n",
    "\n",
    "gene_df['gene_id'] = gene_df['info'].str.extract(r'gene_id=([^;]+)')\n",
    "if gene_df['gene_id'].isna().all():\n",
    "    print(\"Failed to extract gene_id from GTF file.\")\n",
    "\n",
    "# 计算 TSS 位置\n",
    "gene_df['tss'] = np.where(gene_df['strand'] == '+', gene_df['start'], gene_df['end'])\n",
    "gene_df['chrom'] = gene_df['chrom'].astype(str)\n",
    "\n",
    "# chrom length info\n",
    "data = []\n",
    "with open(gtf_file, \"r\") as f:\n",
    "    for line in f:\n",
    "        if line.startswith(\"##sequence-region\"):\n",
    "            tokens = line.strip().split()\n",
    "            # tokens 格式: [\"##sequence-region\", chrom, start, end]\n",
    "            if len(tokens) >= 4:\n",
    "                chrom = tokens[1]\n",
    "                length = int(tokens[3])\n",
    "                data.append({'chrom': chrom, 'length': length})\n",
    "\n",
    "# 转换为 DataFrame\n",
    "chrom_info_df = pd.DataFrame(data)\n",
    "allowed_chroms = [str(i) for i in range(1, 23)] + ['X', 'Y']\n",
    "\n",
    "# 过滤 DataFrame，只保留 chrom 列中值在 allowed_chroms 中的行\n",
    "chrom_info_df = chrom_info_df[chrom_info_df['chrom'].isin(allowed_chroms)]\n",
    "chrom_info_dict = chrom_info_df.set_index('chrom').to_dict()['length']\n",
    "chrom_info_dict = {str(k): v for k, v in chrom_info_dict.items()}\n",
    "\n",
    "chrom_info_dict"
   ]
  },
  {
   "cell_type": "code",
   "execution_count": null,
   "metadata": {},
   "outputs": [],
   "source": [
    "def compute_global_position(gene_df, chrom_info_dict):\n",
    "    \"\"\"\n",
    "    compute gene global position。\n",
    "    \n",
    "    参数：\n",
    "      gene_df: 包含至少 'chrom' 和 'tss' 列的 DataFrame\n",
    "      chrom_info_dict: 字典，键为染色体名称（字符串），值为该染色体的长度（整数）\n",
    "      \n",
    "    返回：\n",
    "      修改后的 gene_df，新增一列 'position'\n",
    "    \"\"\"\n",
    "    # 定义染色体的顺序\n",
    "    ordered_chroms = [ str(i) for i in range(1, 23)] + ['X', 'Y']\n",
    "    \n",
    "    # 构建一个字典，将每个染色体映射为前置染色体的总长度\n",
    "    prefix_length = {}\n",
    "    running_sum = 0\n",
    "    for chrom in ordered_chroms:\n",
    "        prefix_length[chrom] = running_sum\n",
    "        if chrom in chrom_info_dict:\n",
    "            running_sum += chrom_info_dict[chrom]\n",
    "    \n",
    "\n",
    "    gene_df['position'] = gene_df.apply(lambda row: prefix_length.get(row['chrom'], 0) + row['tss'], axis=1)\n",
    "    \n",
    "    return gene_df, prefix_length\n",
    "\n",
    "gene_df, chrom_prefix_length = compute_global_position(gene_df, chrom_info_dict)\n",
    "gene_position_df = gene_df.loc[:, ['chrom', 'gene_id', 'tss', 'position']]\n",
    "gene_position_dict = dict(zip(gene_position_df[\"gene_id\"], gene_position_df[\"position\"]))\n",
    "\n",
    "\n"
   ]
  },
  {
   "cell_type": "code",
   "execution_count": null,
   "metadata": {},
   "outputs": [],
   "source": [
    "\n",
    "with open(\"chrom_prefix_length.json\", \"w\") as json_file:\n",
    "    json.dump(chrom_prefix_length, json_file)\n",
    "with open(\"gene_global_position_dict.json\", \"w\") as json_file:\n",
    "    json.dump(gene_position_dict, json_file)"
   ]
  }
 ],
 "metadata": {
  "kernelspec": {
   "display_name": "hytrel01",
   "language": "python",
   "name": "python3"
  },
  "language_info": {
   "codemirror_mode": {
    "name": "ipython",
    "version": 3
   },
   "file_extension": ".py",
   "mimetype": "text/x-python",
   "name": "python",
   "nbconvert_exporter": "python",
   "pygments_lexer": "ipython3",
   "version": "3.9.20"
  }
 },
 "nbformat": 4,
 "nbformat_minor": 2
}
